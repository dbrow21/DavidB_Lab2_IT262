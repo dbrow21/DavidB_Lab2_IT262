{
  "nbformat": 4,
  "nbformat_minor": 0,
  "metadata": {
    "colab": {
      "name": "DavidB_CBA Lab2.ipynb",
      "provenance": [],
      "mount_file_id": "1l8G3JEbtBGByThNkyFCxQFcpjFkUTXxZ",
      "authorship_tag": "ABX9TyP/LLiIFSF8DWfFDNwF+4H4",
      "include_colab_link": true
    },
    "kernelspec": {
      "name": "python3",
      "display_name": "Python 3"
    },
    "language_info": {
      "name": "python"
    }
  },
  "cells": [
    {
      "cell_type": "markdown",
      "metadata": {
        "id": "view-in-github",
        "colab_type": "text"
      },
      "source": [
        "<a href=\"https://colab.research.google.com/github/dbrow21/DavidB_Lab2_IT262/blob/main/DavidB_CBA_Lab2.ipynb\" target=\"_parent\"><img src=\"https://colab.research.google.com/assets/colab-badge.svg\" alt=\"Open In Colab\"/></a>"
      ]
    },
    {
      "cell_type": "markdown",
      "source": [
        "## Reading Data"
      ],
      "metadata": {
        "id": "i-fn8eWcxOc6"
      }
    },
    {
      "cell_type": "code",
      "execution_count": null,
      "metadata": {
        "colab": {
          "base_uri": "https://localhost:8080/"
        },
        "id": "PMOZ9Lx2n-bf",
        "outputId": "8e4e8bea-0c67-4a10-c48b-326c1eda9651"
      },
      "outputs": [
        {
          "output_type": "stream",
          "name": "stdout",
          "text": [
            "   years  developmentCost  operationalCost  valueOfBenefits\n",
            "0      0             -100                0                0\n",
            "1      1              -30              -10               25\n",
            "2      2                0              -15               55\n",
            "3      3                0              -15               85\n"
          ]
        }
      ],
      "source": [
        "import pandas as pd\n",
        "import math\n",
        "\n",
        "dataT = pd.read_csv(\"/content/drive/MyDrive/ISU/IT 262/262-CBA.csv\")\n",
        "\n",
        "print(dataT)"
      ]
    },
    {
      "cell_type": "markdown",
      "source": [
        "## Calculate Discount Rate"
      ],
      "metadata": {
        "id": "LNSijutXxcu7"
      }
    },
    {
      "cell_type": "code",
      "source": [
        "discountRate = 0.05\n",
        "discountFactor = [0,0,0,0]\n",
        "for year in dataT['years']:\n",
        "    discountFactor[year] = 1/math.pow((1+discountRate),year)\n",
        "\n",
        "dataT['discountFactor']=[round(num, 2) for num in discountFactor]\n",
        "print(dataT)"
      ],
      "metadata": {
        "colab": {
          "base_uri": "https://localhost:8080/"
        },
        "id": "OUKsIeBZtX-5",
        "outputId": "50387546-117f-4a4d-dae4-64b2ce338d22"
      },
      "execution_count": null,
      "outputs": [
        {
          "output_type": "stream",
          "name": "stdout",
          "text": [
            "   years  developmentCost  operationalCost  valueOfBenefits  discountFactor\n",
            "0      0             -100                0                0            1.00\n",
            "1      1              -30              -10               25            0.95\n",
            "2      2                0              -15               55            0.91\n",
            "3      3                0              -15               85            0.86\n"
          ]
        }
      ]
    },
    {
      "cell_type": "markdown",
      "source": [
        "## Calculate Net Benefit/Cost For Each Year"
      ],
      "metadata": {
        "id": "68QvDpvCxhvA"
      }
    },
    {
      "cell_type": "code",
      "source": [
        "NetBC = [0,0,0,0]\n",
        "for year in dataT['years']:\n",
        "    NetBC = dataT['developmentCost'][year]+dataT['operationalCost'][year]+dataT['valueOfBenefits'][year]\n",
        "\n",
        "dataT['NetBC'] = NetBC\n",
        "print(dataT)"
      ],
      "metadata": {
        "colab": {
          "base_uri": "https://localhost:8080/"
        },
        "id": "Pu3jNZbNu2_O",
        "outputId": "480bc6d1-f216-472b-fa9d-e107a5851bc2"
      },
      "execution_count": null,
      "outputs": [
        {
          "output_type": "stream",
          "name": "stdout",
          "text": [
            "   years  developmentCost  ...  discountFactor  NetBC\n",
            "0      0             -100  ...            1.00     70\n",
            "1      1              -30  ...            0.95     70\n",
            "2      2                0  ...            0.91     70\n",
            "3      3                0  ...            0.86     70\n",
            "\n",
            "[4 rows x 6 columns]\n"
          ]
        }
      ]
    },
    {
      "cell_type": "markdown",
      "source": [
        "## Calculate Net Present Value"
      ],
      "metadata": {
        "id": "UoB3EOYZxpix"
      }
    },
    {
      "cell_type": "code",
      "source": [
        "NPV = [0,0,0,0]\n",
        "\n",
        "for year in dataT['years']:\n",
        "    NPV[year]=dataT['NetBC'][year]*dataT['discountFactor'][year]\n",
        "\n",
        "dataT['NPV'] = [round(num, 2) for num in NPV]\n",
        "print(dataT)"
      ],
      "metadata": {
        "colab": {
          "base_uri": "https://localhost:8080/"
        },
        "id": "xMch2QLkvp_X",
        "outputId": "2a0e7df9-5333-425f-8cfd-31bf82faa9e4"
      },
      "execution_count": null,
      "outputs": [
        {
          "output_type": "stream",
          "name": "stdout",
          "text": [
            "   years  developmentCost  operationalCost  ...  discountFactor  NetBC   NPV\n",
            "0      0             -100                0  ...            1.00     70  70.0\n",
            "1      1              -30              -10  ...            0.95     70  66.5\n",
            "2      2                0              -15  ...            0.91     70  63.7\n",
            "3      3                0              -15  ...            0.86     70  60.2\n",
            "\n",
            "[4 rows x 7 columns]\n"
          ]
        }
      ]
    }
  ]
}